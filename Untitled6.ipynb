{
 "cells": [
  {
   "cell_type": "code",
   "execution_count": 23,
   "id": "3be88f24",
   "metadata": {},
   "outputs": [
    {
     "name": "stdout",
     "output_type": "stream",
     "text": [
      "0    4.594642\n",
      "1    4.328122\n",
      "Name: Y-values, dtype: float64\n"
     ]
    }
   ],
   "source": [
    "import matplotlib.pyplot as plt\n",
    "import pandas as pd\n",
    "X = pd.DataFrame({'X-values':[1.005079, 1.128478, 2.117881, 0.955626, -1.35402, -1.07295, -2.0375, 2.354083, 2.14404, 1.166288],\n",
    "                 'Y-values': [4.594642, 4.328122, 0.726845, 4.385907, 2.769449, 2.627009, 3.048606, 0.856632, 0.964399, 4.273516]})\n",
    "print(X.iloc[0:2,1])\n",
    "#plt.scatter(X[:,0],X[:,-1])\n",
    "#plt.show()"
   ]
  },
  {
   "cell_type": "code",
   "execution_count": null,
   "id": "b222c849",
   "metadata": {},
   "outputs": [],
   "source": []
  }
 ],
 "metadata": {
  "kernelspec": {
   "display_name": "Python 3 (ipykernel)",
   "language": "python",
   "name": "python3"
  },
  "language_info": {
   "codemirror_mode": {
    "name": "ipython",
    "version": 3
   },
   "file_extension": ".py",
   "mimetype": "text/x-python",
   "name": "python",
   "nbconvert_exporter": "python",
   "pygments_lexer": "ipython3",
   "version": "3.9.7"
  }
 },
 "nbformat": 4,
 "nbformat_minor": 5
}
