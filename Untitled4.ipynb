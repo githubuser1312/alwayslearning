{
 "cells": [
  {
   "cell_type": "code",
   "execution_count": 24,
   "id": "a99566b5",
   "metadata": {},
   "outputs": [
    {
     "ename": "SyntaxError",
     "evalue": "invalid syntax (2961332099.py, line 9)",
     "output_type": "error",
     "traceback": [
      "\u001b[0;36m  File \u001b[0;32m\"/var/folders/vz/b8zvl0h14pv7z3lkhzvgrczm0000gn/T/ipykernel_1751/2961332099.py\"\u001b[0;36m, line \u001b[0;32m9\u001b[0m\n\u001b[0;31m    kmeans = KMeans(n_clusters=3, random_state=0).fit(X)\u001b[0m\n\u001b[0m    ^\u001b[0m\n\u001b[0;31mSyntaxError\u001b[0m\u001b[0;31m:\u001b[0m invalid syntax\n"
     ]
    }
   ],
   "source": [
    "\n",
    "from sklearn.cluster import KMeans\n",
    "import matplotlib.pyplot as plt\n",
    "\n",
    "\n",
    "X =[[[1.005079, 4.594642], [1.128478, 4.328122], [2.117881, 0.726845], [0.955626, 4.385907], [-1.35402, 2.769449], [-1.07295, 2.627009], [-2.0375, 3.048606], [2.354083, 0.856632], [2.14404, 0.964399], [1.166288, 4.273516]]\n",
    "\n",
    "#especificar el numero de clusters (3) y fit datos X para entrenar el modelo\n",
    "\n",
    "kmeans = KMeans(n_clusters=3, random_state=0).fit(X)\n",
    "\n",
    "#extraigamos los centroides de cluster y las etiquetas de clúster de la variable K-Means\n",
    "\n",
    "print(kmeans.cluster_centers_)\n",
    "print(kmeans.labels_)\n",
    "\n",
    "#tracemos los centroides del cluster con respecto a los puntos de datos, para tener una representacion gráfica\n",
    "\n",
    "plt.scatter(X[:,0], X[:,-1])\n",
    "plt.scatter(kmeans.cluster_centers_[:,0], kmeans.cluster_centers_[:,1], c='red', marker='x')\n",
    "plt.title('Puntos de datos y centroides')\n",
    "plt.show()\n"
   ]
  },
  {
   "cell_type": "code",
   "execution_count": null,
   "id": "994169c6",
   "metadata": {},
   "outputs": [],
   "source": []
  }
 ],
 "metadata": {
  "kernelspec": {
   "display_name": "Python 3 (ipykernel)",
   "language": "python",
   "name": "python3"
  },
  "language_info": {
   "codemirror_mode": {
    "name": "ipython",
    "version": 3
   },
   "file_extension": ".py",
   "mimetype": "text/x-python",
   "name": "python",
   "nbconvert_exporter": "python",
   "pygments_lexer": "ipython3",
   "version": "3.9.7"
  }
 },
 "nbformat": 4,
 "nbformat_minor": 5
}
