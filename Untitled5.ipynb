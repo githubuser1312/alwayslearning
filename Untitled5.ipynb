{
 "cells": [
  {
   "cell_type": "code",
   "execution_count": 10,
   "id": "9e21c4d4",
   "metadata": {},
   "outputs": [
    {
     "name": "stdout",
     "output_type": "stream",
     "text": [
      "[[-1.48815667  2.81502133]\n",
      " [ 2.20533467  0.849292  ]\n",
      " [ 1.06386775  4.39554675]]\n",
      "[2 2 1 2 0 0 0 1 1 2]\n"
     ]
    },
    {
     "data": {
      "image/png": "[encoded data removed]",
      "text/plain": [
       "<Figure size 432x288 with 1 Axes>"
      ]
     },
     "metadata": {
      "needs_background": "light"
     },
     "output_type": "display_data"
    }
   ],
   "source": [
    "\n",
    "from sklearn.cluster import KMeans\n",
    "import matplotlib.pyplot as plt\n",
    "import pandas as pd\n",
    "\n",
    "\n",
    "X = pd.DataFrame({'X-values':[1.005079, 1.128478, 2.117881, 0.955626, -1.35402, -1.07295, -2.0375, 2.354083, 2.14404, 1.166288],\n",
    "                 'Y-values': [4.594642, 4.328122, 0.726845, 4.385907, 2.769449, 2.627009, 3.048606, 0.856632, 0.964399, 4.273516]})\n",
    "\n",
    "#especificar el numero de clusters (3) y fit datos X para entrenar el modelo\n",
    "\n",
    "kmeans = KMeans(n_clusters=3, random_state=0).fit(X)\n",
    "\n",
    "#extraigamos los centroides de cluster y las etiquetas de clúster de la variable K-Means\n",
    "\n",
    "print(kmeans.cluster_centers_)\n",
    "print(kmeans.labels_)\n",
    "\n",
    "#tracemos los centroides del cluster con respecto a los puntos de datos, para tener una representacion gráfica\n",
    "\n",
    "plt.scatter(X.iloc[:,0],X.iloc[:,-1])\n",
    "plt.scatter(kmeans.cluster_centers_[:,0], kmeans.cluster_centers_[:,1], c='red', marker='x')\n",
    "plt.title('Puntos de datos y centroides')\n",
    "plt.show()\n",
    "\n"
   ]
  },
  {
   "cell_type": "code",
   "execution_count": 12,
   "id": "5da94877",
   "metadata": {},
   "outputs": [],
   "source": [
    "\n",
    "from sklearn.datasets import make_blobs #conjunto de datos basados en blobs\n",
    "from sklearn.cluster import DBSCAN\n",
    "import numpy as np\n",
    "import matplotlib.pyplot as plt\n",
    "\n",
    "#configuracion\n",
    "num_samples_total = 1000\n",
    "cluster_centers = [(3,3),(7,7)]\n",
    "num_classes = len(cluster_centers)\n",
    "epsilon = 1.0\n",
    "min_samples = 13\n",
    "#generar datos\n",
    "X,y = make_blobs(n_samples = num_samples_total, centers=cluster_centers, n_features = num_classes, center_box=(0,1), cluster_std = 0.5)\n",
    "\n",
    "#los datos se generan al azar asi que serán ligeremante diferentes cada vez que ejecutemos.\n",
    "\n",
    "#para poder repetir el proceso, puede ser aconsejable guardar los datos solo una vez después de ejecutar el script: al quitar los comentarios de la línea (np.save...), siempre cargará los mismos datos del archivo. Sin embargo, esto no es necesario.\n",
    "#grabar datos si se considera necesario\n",
    "\n",
    "np.save('./11zClusters.npy', X)\n",
    "X = np.load('./11zClusters.npy')\n",
    "\n",
    "#ahora podemos inicializar DBSCAN y calcular los clusteres\n",
    "\n",
    "# inicializamos con nuestros valores con DBSCANepsilonmin_samples.\n",
    "# luego ajustamos inmediatamente los datos a DBSCAN, lo que significa que comenzará la agrupacion en clusteres\n",
    "#cargamos las etiquetas generadas (es decir, índices de cluster) una vez finalizado el agrupamiento.\n",
    "\n",
    "db = DBSCAN(eps=epsilon, min_samples=min_samples).fit(X)\n",
    "\n",
    "labels = db.labels_\n"
   ]
  },
  {
   "cell_type": "code",
   "execution_count": null,
   "id": "59d1a505",
   "metadata": {},
   "outputs": [],
   "source": []
  }
 ],
 "metadata": {
  "kernelspec": {
   "display_name": "Python 3 (ipykernel)",
   "language": "python",
   "name": "python3"
  },
  "language_info": {
   "codemirror_mode": {
    "name": "ipython",
    "version": 3
   },
   "file_extension": ".py",
   "mimetype": "text/x-python",
   "name": "python",
   "nbconvert_exporter": "python",
   "pygments_lexer": "ipython3",
   "version": "3.9.7"
  }
 },
 "nbformat": 4,
 "nbformat_minor": 5
}
