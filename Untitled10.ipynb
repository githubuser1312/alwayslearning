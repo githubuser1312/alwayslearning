{
 "cells": [
  {
   "cell_type": "code",
   "execution_count": 1,
   "id": "269c9c92",
   "metadata": {},
   "outputs": [
    {
     "ename": "ModuleNotFoundError",
     "evalue": "No module named 'mlxtend'",
     "output_type": "error",
     "traceback": [
      "\u001b[0;31m---------------------------------------------------------------------------\u001b[0m",
      "\u001b[0;31mModuleNotFoundError\u001b[0m                       Traceback (most recent call last)",
      "\u001b[0;32m/var/folders/vz/b8zvl0h14pv7z3lkhzvgrczm0000gn/T/ipykernel_4816/4059429196.py\u001b[0m in \u001b[0;36m<module>\u001b[0;34m\u001b[0m\n\u001b[1;32m      1\u001b[0m \u001b[0;32mimport\u001b[0m \u001b[0mpandas\u001b[0m \u001b[0;32mas\u001b[0m \u001b[0mpd\u001b[0m\u001b[0;34m\u001b[0m\u001b[0;34m\u001b[0m\u001b[0m\n\u001b[0;32m----> 2\u001b[0;31m \u001b[0;32mfrom\u001b[0m \u001b[0mmlxtend\u001b[0m\u001b[0;34m.\u001b[0m\u001b[0mfrequent_patterns\u001b[0m \u001b[0;32mimport\u001b[0m \u001b[0mapriori\u001b[0m\u001b[0;34m\u001b[0m\u001b[0;34m\u001b[0m\u001b[0m\n\u001b[0m\u001b[1;32m      3\u001b[0m \u001b[0;32mfrom\u001b[0m \u001b[0mmlxtend\u001b[0m\u001b[0;34m.\u001b[0m\u001b[0mfrequent_patterms\u001b[0m \u001b[0;32mimport\u001b[0m \u001b[0massociation_rules\u001b[0m\u001b[0;34m\u001b[0m\u001b[0;34m\u001b[0m\u001b[0m\n\u001b[1;32m      4\u001b[0m \u001b[0;34m\u001b[0m\u001b[0m\n\u001b[1;32m      5\u001b[0m \u001b[0;31m#df = pd.read_excel('http://archive.ics.uci.edu/ml/machine-learning-databases/00352/Online Retail.xlsx')\u001b[0m\u001b[0;34m\u001b[0m\u001b[0;34m\u001b[0m\u001b[0m\n",
      "\u001b[0;31mModuleNotFoundError\u001b[0m: No module named 'mlxtend'"
     ]
    }
   ],
   "source": [
    "import pandas as pd\n",
    "from mlxtend.frequent_patterns import apriori\n",
    "from mlxtend.frequent_patterms import association_rules\n",
    "\n",
    "#df = pd.read_excel('http://archive.ics.uci.edu/ml/machine-learning-databases/00352/Online Retail.xlsx')\n",
    "\n",
    "df = pd.read_excel('learningMachineLearning/14zOnline Retail.xlsx')\n",
    "\n",
    "df.head()\n",
    "\n",
    "#para ordenar un poco los datos hay que eliminar algunas de las descripciones. También eliminaremos las filas que no tienen número de factura y eliminaremos las transacciones de crédito (aquellas con números de factura que contengan C).\n",
    "\n",
    "df['Description'] = df['Description'].str.strip()\n",
    "df.dropna(axis=0, subset=['InvoiceNo'], inplace=True)\n",
    "df['InvoiceNo']=df['InvoiceNo'].astype('str')\n",
    "df=df[~df['InvoiceNo'].str.contains('C')]\n",
    "\n",
    "\n",
    "#después de la limpieza, necesitamos consolidar los elementos en 1 transacción por fila con cada producto codificado en ONE HOT. E n aras de mantener el conjunto de datos pequeño, sólo trabajaremos con las ventas de Francia. Sin embargo, en el código después se compararán estos resultados con las ventas de Alemania. Sería interesante investigar más comparaciones de paises.\n",
    "\n",
    "\n",
    "basket = df[df['Country'] == \"France\"].groupby(['InvoiceNo', 'Description'])['Quantity'].sum().unstack().reset_index().fillna(0).set_index('InvoiceNo')"
   ]
  },
  {
   "cell_type": "code",
   "execution_count": null,
   "id": "fcc2d017",
   "metadata": {},
   "outputs": [],
   "source": []
  }
 ],
 "metadata": {
  "kernelspec": {
   "display_name": "Python 3 (ipykernel)",
   "language": "python",
   "name": "python3"
  },
  "language_info": {
   "codemirror_mode": {
    "name": "ipython",
    "version": 3
   },
   "file_extension": ".py",
   "mimetype": "text/x-python",
   "name": "python",
   "nbconvert_exporter": "python",
   "pygments_lexer": "ipython3",
   "version": "3.9.7"
  }
 },
 "nbformat": 4,
 "nbformat_minor": 5
}
